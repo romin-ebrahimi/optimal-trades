{
 "cells": [
  {
   "cell_type": "code",
   "execution_count": 1,
   "id": "fc0a8aa1",
   "metadata": {},
   "outputs": [],
   "source": [
    "import backtest\n",
    "import numpy as np\n",
    "import pandas as pd"
   ]
  },
  {
   "cell_type": "code",
   "execution_count": 2,
   "id": "ea9b6a0d",
   "metadata": {},
   "outputs": [
    {
     "data": {
      "text/plain": [
       "((661062, 3), Index(['time', 'close', 'volume'], dtype='object'))"
      ]
     },
     "execution_count": 2,
     "metadata": {},
     "output_type": "execute_result"
    }
   ],
   "source": [
    "DATA_PATH = \"./data/\"\n",
    "dat = pd.read_parquet(DATA_PATH + \"eurusd.parquet\")\n",
    "dat.shape, dat.columns"
   ]
  },
  {
   "cell_type": "code",
   "execution_count": 3,
   "id": "0df68fbf",
   "metadata": {},
   "outputs": [
    {
     "name": "stdout",
     "output_type": "stream",
     "text": [
      "Done optimizing labels with dd_bps constraint = 10.\n",
      "Done optimizing labels with dd_bps constraint = 20.\n",
      "Done optimizing labels with dd_bps constraint = 30.\n",
      "Done optimizing labels with dd_bps constraint = 40.\n",
      "Done optimizing labels with dd_bps constraint = 50.\n",
      "Done optimizing labels with dd_bps constraint = 60.\n",
      "Done optimizing labels with dd_bps constraint = 70.\n",
      "Done optimizing labels with dd_bps constraint = 80.\n",
      "Done optimizing labels with dd_bps constraint = 90.\n"
     ]
    }
   ],
   "source": [
    "opt_trades = {}\n",
    "dd_constraints = np.arange(10,100,10)\n",
    "for dd_bps in dd_constraints:\n",
    "    opt_trades[dd_bps] = backtest.target_optimal(\n",
    "        df_price = dat.close,\n",
    "        fee_bps = 3,\n",
    "        dd_bps = dd_bps\n",
    "    )\n",
    "    \n",
    "    print(f\"Done optimizing labels with dd_bps constraint = {dd_bps}.\")"
   ]
  },
  {
   "cell_type": "code",
   "execution_count": 4,
   "id": "a9082627",
   "metadata": {},
   "outputs": [],
   "source": [
    "stats = {} # trading statistics\n",
    "for dd_bps in dd_constraints:\n",
    "    trades_in = dat.copy()\n",
    "    trades_in['S'] = 0\n",
    "    trades_in['L'] = 0\n",
    "    trades_in['C'] = 0\n",
    "    trades_in.loc[opt_trades[dd_bps] == 0, 'S'] = 1\n",
    "    trades_in.loc[opt_trades[dd_bps] == 1, 'L'] = 1\n",
    "    trades_in.loc[opt_trades[dd_bps] == 2, 'C'] = 1\n",
    "    \n",
    "    b = backtest.BackTest(data = trades_in,\n",
    "                          decimal_pip = 5,\n",
    "                          threshold = 0.5,\n",
    "                          fee_bps = 3)\n",
    "    stats[dd_bps] = b.trade_stats()"
   ]
  },
  {
   "cell_type": "code",
   "execution_count": 5,
   "metadata": {},
   "outputs": [
    {
     "data": {
      "text/plain": [
       "{'annual_return': 1.513,\n",
       " 'sharpe': 15.48,\n",
       " 'sortino': 29.06,\n",
       " 'std_deviation': 0.098,\n",
       " 'total_return': 26.7109,\n",
       " 'trade_count_long': 724,\n",
       " 'trade_count_short': 699,\n",
       " 'trade_count_total': 1423,\n",
       " 'average_return_long': 185.0,\n",
       " 'average_return_short': 191.0,\n",
       " 'accuracy_long': 1.0,\n",
       " 'accuracy_short': 1.0,\n",
       " 'accuracy_total': 1.0,\n",
       " 'max_drawdown': -0.011,\n",
       " 'max_drawdown_days': 3}"
      ]
     },
     "execution_count": 5,
     "metadata": {},
     "output_type": "execute_result"
    }
   ],
   "source": [
    "stats[90]"
   ]
  }
 ],
 "metadata": {
  "kernelspec": {
   "display_name": "Python 3 (ipykernel)",
   "language": "python",
   "name": "python3"
  },
  "language_info": {
   "codemirror_mode": {
    "name": "ipython",
    "version": 3
   },
   "file_extension": ".py",
   "mimetype": "text/x-python",
   "name": "python",
   "nbconvert_exporter": "python",
   "pygments_lexer": "ipython3",
   "version": "3.10.0"
  }
 },
 "nbformat": 4,
 "nbformat_minor": 5
}
