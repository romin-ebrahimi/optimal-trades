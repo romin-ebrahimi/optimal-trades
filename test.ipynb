{
 "cells": [
  {
   "cell_type": "code",
   "execution_count": null,
   "id": "fc0a8aa1",
   "metadata": {},
   "outputs": [],
   "source": [
    "import backtest\n",
    "import numpy as np\n",
    "import pandas as pd"
   ]
  },
  {
   "cell_type": "code",
   "execution_count": null,
   "id": "ea9b6a0d",
   "metadata": {},
   "outputs": [],
   "source": [
    "DATA_PATH = \"./data/\"\n",
    "dat = pd.read_parquet(DATA_PATH + \"eurusd.parquet\")\n",
    "dat.shape, dat.columns"
   ]
  },
  {
   "cell_type": "code",
   "execution_count": null,
   "id": "0df68fbf",
   "metadata": {},
   "outputs": [],
   "source": [
    "opt_trades = {}\n",
    "dd_constraints = np.arange(10,100,10)\n",
    "for dd_bps in dd_constraints:\n",
    "    opt_trades[dd_bps] = backtest.target_optimal(df_price = dat.close,\n",
    "                                                 fee_bps = 3,\n",
    "                                                 dd_bps = dd_bps)\n",
    "    \n",
    "    print(f\"Done optimizing labels with dd_bps constraint = {dd_bps}.\")"
   ]
  },
  {
   "cell_type": "code",
   "execution_count": null,
   "id": "a9082627",
   "metadata": {},
   "outputs": [],
   "source": [
    "stats = {} # trading statistics\n",
    "for dd_bps in dd_constraints:\n",
    "    trades_in = dat.copy()\n",
    "    trades_in['S'] = 0\n",
    "    trades_in['L'] = 0\n",
    "    trades_in['C'] = 0\n",
    "    trades_in.loc[opt_trades[dd_bps] == 0, 'S'] = 1\n",
    "    trades_in.loc[opt_trades[dd_bps] == 1, 'L'] = 1\n",
    "    trades_in.loc[opt_trades[dd_bps] == 2, 'C'] = 1\n",
    "    \n",
    "    b = backtest.BackTest(data = trades_in,\n",
    "                          decimal_pip = 5,\n",
    "                          threshold = 0.5,\n",
    "                          fee_bps = 3)\n",
    "    stats[dd_bps] = b.trade_stats()"
   ]
  }
 ],
 "metadata": {
  "kernelspec": {
   "display_name": "Python 3 (ipykernel)",
   "language": "python",
   "name": "python3"
  },
  "language_info": {
   "codemirror_mode": {
    "name": "ipython",
    "version": 3
   },
   "file_extension": ".py",
   "mimetype": "text/x-python",
   "name": "python",
   "nbconvert_exporter": "python",
   "pygments_lexer": "ipython3",
   "version": "3.9.13"
  }
 },
 "nbformat": 4,
 "nbformat_minor": 5
}
