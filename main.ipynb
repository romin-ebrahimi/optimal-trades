{
 "cells": [
  {
   "cell_type": "code",
   "execution_count": 1,
   "id": "0d04d545",
   "metadata": {},
   "outputs": [],
   "source": [
    "import backtest\n",
    "import backtest_futures\n",
    "import numpy as np\n",
    "import pandas as pd\n",
    "import seaborn as sb"
   ]
  },
  {
   "cell_type": "code",
   "execution_count": 2,
   "id": "2938a3ae",
   "metadata": {},
   "outputs": [
    {
     "data": {
      "text/plain": [
       "((661062, 3), Index(['time', 'close', 'volume'], dtype='object'))"
      ]
     },
     "execution_count": 2,
     "metadata": {},
     "output_type": "execute_result"
    }
   ],
   "source": [
    "DATA_PATH = \"./data/\"\n",
    "dat = pd.read_parquet(DATA_PATH + \"eurusd.parquet\")\n",
    "dat.shape, dat.columns"
   ]
  },
  {
   "cell_type": "code",
   "execution_count": 3,
   "id": "7b3e155f",
   "metadata": {},
   "outputs": [
    {
     "name": "stdout",
     "output_type": "stream",
     "text": [
      "Done optimizing labels with dd_bps constraint = 10.\n",
      "Done optimizing labels with dd_bps constraint = 20.\n",
      "Done optimizing labels with dd_bps constraint = 30.\n",
      "Done optimizing labels with dd_bps constraint = 40.\n",
      "Done optimizing labels with dd_bps constraint = 50.\n",
      "Done optimizing labels with dd_bps constraint = 60.\n",
      "Done optimizing labels with dd_bps constraint = 70.\n",
      "Done optimizing labels with dd_bps constraint = 80.\n",
      "Done optimizing labels with dd_bps constraint = 90.\n"
     ]
    }
   ],
   "source": [
    "opt_trades = {}\n",
    "dd_constraints = np.arange(10,100,10)\n",
    "for dd_bps in dd_constraints:\n",
    "    opt_trades[dd_bps] = backtest.target_optimal(\n",
    "        df_price = dat.close,\n",
    "        fee_bps = 3,\n",
    "        dd_bps = dd_bps\n",
    "    )\n",
    "    \n",
    "    print(f\"Done optimizing labels with dd_bps constraint = {dd_bps}.\")"
   ]
  },
  {
   "cell_type": "code",
   "execution_count": 4,
   "id": "3ecb553e",
   "metadata": {},
   "outputs": [],
   "source": [
    "stats = {} # trading statistics\n",
    "for dd_bps in dd_constraints:\n",
    "    trades_in = dat.copy()\n",
    "    trades_in['S'] = 0\n",
    "    trades_in['L'] = 0\n",
    "    trades_in['C'] = 0\n",
    "    trades_in.loc[opt_trades[dd_bps] == 0, 'S'] = 1\n",
    "    trades_in.loc[opt_trades[dd_bps] == 1, 'L'] = 1\n",
    "    trades_in.loc[opt_trades[dd_bps] == 2, 'C'] = 1\n",
    "    \n",
    "    b = backtest.BackTest(data = trades_in,\n",
    "                          decimal_pip = 5,\n",
    "                          threshold = 0.5,\n",
    "                          fee_bps = 3)\n",
    "    stats[dd_bps] = b.trade_stats()"
   ]
  },
  {
   "cell_type": "code",
   "execution_count": 5,
   "id": "46910558",
   "metadata": {},
   "outputs": [
    {
     "data": {
      "text/plain": [
       "{'annual_return': 1.513,\n",
       " 'sharpe': 15.48,\n",
       " 'sortino': 29.06,\n",
       " 'std_deviation': 0.098,\n",
       " 'total_return': 26.7109,\n",
       " 'trade_count_long': 724,\n",
       " 'trade_count_short': 699,\n",
       " 'trade_count_total': 1423,\n",
       " 'average_return_long': 185.0,\n",
       " 'average_return_short': 191.0,\n",
       " 'accuracy_long': 1.0,\n",
       " 'accuracy_short': 1.0,\n",
       " 'accuracy_total': 1.0,\n",
       " 'max_drawdown': -0.011,\n",
       " 'max_drawdown_days': 3}"
      ]
     },
     "execution_count": 5,
     "metadata": {},
     "output_type": "execute_result"
    }
   ],
   "source": [
    "stats[dd_bps]"
   ]
  },
  {
   "cell_type": "code",
   "execution_count": 6,
   "id": "d5141b32",
   "metadata": {},
   "outputs": [
    {
     "data": {
      "text/plain": [
       "<AxesSubplot:xlabel='dd_bps', ylabel='annual_return'>"
      ]
     },
     "execution_count": 6,
     "metadata": {},
     "output_type": "execute_result"
    },
    {
     "data": {
      "image/png": "[encoded data removed]",
      "text/plain": [
       "<Figure size 432x288 with 1 Axes>"
      ]
     },
     "metadata": {
      "needs_background": "light"
     },
     "output_type": "display_data"
    }
   ],
   "source": [
    "df_stats = pd.DataFrame.from_dict(stats, orient = 'index')\n",
    "df_stats['dd_bps'] = df_stats.index\n",
    "sb.scatterplot(data = df_stats,\n",
    "               x = 'dd_bps',\n",
    "               y = 'annual_return')"
   ]
  },
  {
   "cell_type": "code",
   "execution_count": 7,
   "id": "eca9923d",
   "metadata": {},
   "outputs": [
    {
     "data": {
      "text/plain": [
       "<AxesSubplot:xlabel='dd_bps', ylabel='sortino'>"
      ]
     },
     "execution_count": 7,
     "metadata": {},
     "output_type": "execute_result"
    },
    {
     "data": {
      "image/png": "[encoded data removed]",
      "text/plain": [
       "<Figure size 432x288 with 1 Axes>"
      ]
     },
     "metadata": {
      "needs_background": "light"
     },
     "output_type": "display_data"
    }
   ],
   "source": [
    "sb.scatterplot(data = df_stats,\n",
    "               x = 'dd_bps',\n",
    "               y = 'sortino')"
   ]
  },
  {
   "cell_type": "code",
   "execution_count": 8,
   "id": "744e5acc",
   "metadata": {},
   "outputs": [
    {
     "data": {
      "text/plain": [
       "<AxesSubplot:xlabel='dd_bps', ylabel='trade_count_total'>"
      ]
     },
     "execution_count": 8,
     "metadata": {},
     "output_type": "execute_result"
    },
    {
     "data": {
      "image/png": "[encoded data removed]",
      "text/plain": [
       "<Figure size 432x288 with 1 Axes>"
      ]
     },
     "metadata": {
      "needs_background": "light"
     },
     "output_type": "display_data"
    }
   ],
   "source": [
    "sb.scatterplot(data = df_stats,\n",
    "               x = 'dd_bps',\n",
    "               y = 'trade_count_total')"
   ]
  },
  {
   "cell_type": "code",
   "execution_count": 9,
   "id": "e47e946f",
   "metadata": {},
   "outputs": [
    {
     "data": {
      "text/plain": [
       "<AxesSubplot:xlabel='dd_bps', ylabel='max_drawdown'>"
      ]
     },
     "execution_count": 9,
     "metadata": {},
     "output_type": "execute_result"
    },
    {
     "data": {
      "image/png": "[encoded data removed]",
      "text/plain": [
       "<Figure size 432x288 with 1 Axes>"
      ]
     },
     "metadata": {
      "needs_background": "light"
     },
     "output_type": "display_data"
    }
   ],
   "source": [
    "sb.scatterplot(data = df_stats,\n",
    "               x = 'dd_bps',\n",
    "               y = 'max_drawdown')"
   ]
  },
  {
   "cell_type": "markdown",
   "metadata": {},
   "source": [
    "Illustration of backtest_futures module."
   ]
  },
  {
   "cell_type": "code",
   "execution_count": null,
   "metadata": {},
   "outputs": [],
   "source": [
    "DATA_PATH = \"./data/\"\n",
    "dat = pd.read_parquet(DATA_PATH + \"es.parquet\")\n",
    "\n",
    "opt_trades = {}\n",
    "dd_constraints = np.arange(10, 100, 10)\n",
    "for dd_bps in dd_constraints:\n",
    "    opt_trades[dd_bps] = backtest_futures.target_optimal(\n",
    "        df_price = dat.close,\n",
    "        min_increment = 0.25,\n",
    "        fee = 0.50,\n",
    "        dd_bps = dd_bps\n",
    "    )\n",
    "    \n",
    "    print(f\"Done optimizing labels with dd_bps constraint = {dd_bps}.\")"
   ]
  },
  {
   "cell_type": "code",
   "execution_count": null,
   "metadata": {},
   "outputs": [],
   "source": [
    "stats = {} # trading statistics\n",
    "for dd_bps in dd_constraints:\n",
    "    trades_in = dat.copy()\n",
    "    trades_in['S'] = 0\n",
    "    trades_in['L'] = 0\n",
    "    trades_in['C'] = 0\n",
    "    trades_in.loc[opt_trades[dd_bps] == 0, 'S'] = 1\n",
    "    trades_in.loc[opt_trades[dd_bps] == 1, 'L'] = 1\n",
    "    trades_in.loc[opt_trades[dd_bps] == 2, 'C'] = 1\n",
    "    \n",
    "    b = backtest_futures.BackTest(\n",
    "        data = trades_in,\n",
    "        min_increment = 0.25,\n",
    "        threshold = 0.5,\n",
    "        fee = 0.50\n",
    "    )\n",
    "    stats[dd_bps] = b.trade_stats()"
   ]
  },
  {
   "cell_type": "code",
   "execution_count": null,
   "metadata": {},
   "outputs": [],
   "source": [
    "stats[10]"
   ]
  },
  {
   "cell_type": "code",
   "execution_count": null,
   "metadata": {},
   "outputs": [],
   "source": [
    "stats[90]"
   ]
  },
  {
   "cell_type": "code",
   "execution_count": null,
   "metadata": {},
   "outputs": [],
   "source": [
    "df_stats = pd.DataFrame.from_dict(stats, orient = 'index')\n",
    "df_stats['dd_bps'] = df_stats.index\n",
    "sb.scatterplot(data = df_stats,\n",
    "               x = 'dd_bps',\n",
    "               y = 'sortino')"
   ]
  }
 ],
 "metadata": {
  "kernelspec": {
   "display_name": "Python 3 (ipykernel)",
   "language": "python",
   "name": "python3"
  },
  "language_info": {
   "codemirror_mode": {
    "name": "ipython",
    "version": 3
   },
   "file_extension": ".py",
   "mimetype": "text/x-python",
   "name": "python",
   "nbconvert_exporter": "python",
   "pygments_lexer": "ipython3",
   "version": "3.9.13"
  }
 },
 "nbformat": 4,
 "nbformat_minor": 5
}
