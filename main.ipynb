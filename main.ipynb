{
 "cells": [
  {
   "cell_type": "code",
   "execution_count": 6,
   "id": "7d16016f",
   "metadata": {},
   "outputs": [],
   "source": [
    "import back_test\n",
    "import numpy as np\n",
    "import pandas as pd\n",
    "import seaborn as sb"
   ]
  },
  {
   "cell_type": "code",
   "execution_count": 9,
   "id": "432c9f9e",
   "metadata": {},
   "outputs": [
    {
     "data": {
      "text/plain": [
       "((661062, 3), Index(['time', 'close', 'volume'], dtype='object'))"
      ]
     },
     "execution_count": 9,
     "metadata": {},
     "output_type": "execute_result"
    }
   ],
   "source": [
    "DATA_PATH = \"./data/\"\n",
    "dat = pd.read_parquet(DATA_PATH + \"eurusd.parquet\")\n",
    "dat.shape, dat.columns"
   ]
  },
  {
   "cell_type": "code",
   "execution_count": 71,
   "id": "ec4611e4",
   "metadata": {},
   "outputs": [
    {
     "name": "stdout",
     "output_type": "stream",
     "text": [
      "Done optimizing labels with dd_bps constraint = 10.\n",
      "Done optimizing labels with dd_bps constraint = 30.\n",
      "Done optimizing labels with dd_bps constraint = 50.\n",
      "Done optimizing labels with dd_bps constraint = 70.\n",
      "Done optimizing labels with dd_bps constraint = 90.\n"
     ]
    }
   ],
   "source": [
    "opt_trades = {}\n",
    "dd_constraints = np.arange(10,100,20) # TODO: change\n",
    "for dd_bps in dd_constraints:\n",
    "    opt_trades[dd_bps] = back_test.target_optimal(df_price = dat.close,\n",
    "                                                  fee_bps = 3,\n",
    "                                                  dd_bps = dd_bps)\n",
    "    \n",
    "    print(f\"Done optimizing labels with dd_bps constraint = {dd_bps}.\")"
   ]
  },
  {
   "cell_type": "code",
   "execution_count": 72,
   "id": "7fcaabca",
   "metadata": {},
   "outputs": [],
   "source": [
    "stats = {} # trading statistics\n",
    "for dd_bps in dd_constraints:\n",
    "    trades_in = dat.copy()\n",
    "    trades_in['S'] = 0\n",
    "    trades_in['L'] = 0\n",
    "    trades_in['C'] = 0\n",
    "    trades_in.loc[opt_trades[dd_bps] == 0, 'S'] = 1\n",
    "    trades_in.loc[opt_trades[dd_bps] == 1, 'L'] = 1\n",
    "    trades_in.loc[opt_trades[dd_bps] == 2, 'C'] = 1\n",
    "\n",
    "    stats[dd_bps] = back_test.trade_stats(trades_in)"
   ]
  },
  {
   "cell_type": "code",
   "execution_count": 70,
   "id": "8b9e9285",
   "metadata": {},
   "outputs": [
    {
     "data": {
      "text/plain": [
       "<module 'back_test' from '/Users/rebrahimi/projects/optimal-trades/back_test.py'>"
      ]
     },
     "execution_count": 70,
     "metadata": {},
     "output_type": "execute_result"
    }
   ],
   "source": [
    "importlib.reload(back_test)"
   ]
  },
  {
   "cell_type": "code",
   "execution_count": 73,
   "id": "bfaba3a4",
   "metadata": {},
   "outputs": [
    {
     "data": {
      "text/plain": [
       "{'annual_return': 4.822,\n",
       " 'sharpe': 51.26,\n",
       " 'sortino': 135.23,\n",
       " 'std_deviation': 0.094,\n",
       " 'total_return': 85.135,\n",
       " 'trade_count_long': 16005,\n",
       " 'trade_count_short': 16158,\n",
       " 'trade_count_total': 32163,\n",
       " 'average_return_long': 7.0,\n",
       " 'average_return_short': 7.0,\n",
       " 'accuracy_long': 0.985,\n",
       " 'accuracy_short': 1.0,\n",
       " 'accuracy_total': 0.993,\n",
       " 'max_drawdown': -0.006700000000002149,\n",
       " 'max_drawdown_days': 0}"
      ]
     },
     "execution_count": 73,
     "metadata": {},
     "output_type": "execute_result"
    }
   ],
   "source": [
    "stats[10]"
   ]
  },
  {
   "cell_type": "code",
   "execution_count": 74,
   "id": "d94370b3",
   "metadata": {},
   "outputs": [
    {
     "data": {
      "text/plain": [
       "<AxesSubplot:xlabel='dd_bps', ylabel='annual_return'>"
      ]
     },
     "execution_count": 74,
     "metadata": {},
     "output_type": "execute_result"
    },
    {
     "data": {
      "image/png": "[encoded data removed]",
      "text/plain": [
       "<Figure size 432x288 with 1 Axes>"
      ]
     },
     "metadata": {
      "needs_background": "light"
     },
     "output_type": "display_data"
    }
   ],
   "source": [
    "df_stats = pd.DataFrame.from_dict(stats, orient = 'index')\n",
    "df_stats['dd_bps'] = df_stats.index\n",
    "sb.scatterplot(data = df_stats,\n",
    "               x = 'dd_bps',\n",
    "               y = 'annual_return')"
   ]
  },
  {
   "cell_type": "code",
   "execution_count": 75,
   "id": "d80148ad",
   "metadata": {},
   "outputs": [
    {
     "data": {
      "text/plain": [
       "<AxesSubplot:xlabel='dd_bps', ylabel='sortino'>"
      ]
     },
     "execution_count": 75,
     "metadata": {},
     "output_type": "execute_result"
    },
    {
     "data": {
      "image/png": "[encoded data removed]",
      "text/plain": [
       "<Figure size 432x288 with 1 Axes>"
      ]
     },
     "metadata": {
      "needs_background": "light"
     },
     "output_type": "display_data"
    }
   ],
   "source": [
    "sb.scatterplot(data = df_stats,\n",
    "               x = 'dd_bps',\n",
    "               y = 'sortino')"
   ]
  },
  {
   "cell_type": "code",
   "execution_count": 76,
   "id": "45f4e230",
   "metadata": {},
   "outputs": [
    {
     "data": {
      "text/plain": [
       "<AxesSubplot:xlabel='dd_bps', ylabel='trade_count_total'>"
      ]
     },
     "execution_count": 76,
     "metadata": {},
     "output_type": "execute_result"
    },
    {
     "data": {
      "image/png": "[encoded data removed]",
      "text/plain": [
       "<Figure size 432x288 with 1 Axes>"
      ]
     },
     "metadata": {
      "needs_background": "light"
     },
     "output_type": "display_data"
    }
   ],
   "source": [
    "sb.scatterplot(data = df_stats,\n",
    "               x = 'dd_bps',\n",
    "               y = 'trade_count_total')"
   ]
  },
  {
   "cell_type": "markdown",
   "id": "019555a1",
   "metadata": {},
   "source": [
    "Separate code for model development and optimization."
   ]
  }
 ],
 "metadata": {
  "kernelspec": {
   "display_name": "Python 3 (ipykernel)",
   "language": "python",
   "name": "python3"
  },
  "language_info": {
   "codemirror_mode": {
    "name": "ipython",
    "version": 3
   },
   "file_extension": ".py",
   "mimetype": "text/x-python",
   "name": "python",
   "nbconvert_exporter": "python",
   "pygments_lexer": "ipython3",
   "version": "3.9.13"
  }
 },
 "nbformat": 4,
 "nbformat_minor": 5
}
