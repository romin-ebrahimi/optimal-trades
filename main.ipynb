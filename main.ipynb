{
 "cells": [
  {
   "cell_type": "code",
   "execution_count": 6,
   "id": "4fe824ae",
   "metadata": {},
   "outputs": [],
   "source": [
    "import back_test\n",
    "import numpy as np\n",
    "import pandas as pd\n",
    "import seaborn as sb"
   ]
  },
  {
   "cell_type": "code",
   "execution_count": 9,
   "id": "dedaab6e",
   "metadata": {},
   "outputs": [
    {
     "data": {
      "text/plain": [
       "((661062, 3), Index(['time', 'close', 'volume'], dtype='object'))"
      ]
     },
     "execution_count": 9,
     "metadata": {},
     "output_type": "execute_result"
    }
   ],
   "source": [
    "DATA_PATH = \"./data/\"\n",
    "dat = pd.read_parquet(DATA_PATH + \"eurusd.parquet\")\n",
    "dat.shape, dat.columns"
   ]
  },
  {
   "cell_type": "code",
   "execution_count": 54,
   "id": "a6d14d08",
   "metadata": {},
   "outputs": [
    {
     "name": "stdout",
     "output_type": "stream",
     "text": [
      "Done optimizing labels with dd_bps constraint = 10.\n",
      "Done optimizing labels with dd_bps constraint = 20.\n"
     ]
    }
   ],
   "source": [
    "opt_trades = {}\n",
    "dd_constraints = np.arange(7,101,1)\n",
    "for dd_bps in dd_constraints:\n",
    "    opt_trades[dd_bps] = back_test.target_optimal(df_price = dat.close,\n",
    "                                                  fee_bps = 3,\n",
    "                                                  dd_bps = dd_bps)\n",
    "    \n",
    "    print(f\"Done optimizing labels with dd_bps constraint = {dd_bps}.\")"
   ]
  },
  {
   "cell_type": "code",
   "execution_count": 55,
   "id": "b4f0d24b",
   "metadata": {},
   "outputs": [],
   "source": [
    "stats = {} # trading statistics\n",
    "for dd_bps in dd_constraints:\n",
    "    trades_in = dat.copy()\n",
    "    trades_in['S'] = 0\n",
    "    trades_in['L'] = 0\n",
    "    trades_in['C'] = 0\n",
    "    trades_in.loc[opt_trades[dd_bps] == 0, 'S'] = 1\n",
    "    trades_in.loc[opt_trades[dd_bps] == 1, 'L'] = 1\n",
    "    trades_in.loc[opt_trades[dd_bps] == 2, 'C'] = 1\n",
    "\n",
    "    stats[dd_bps] = back_test.trade_stats(trades_in)"
   ]
  },
  {
   "cell_type": "code",
   "execution_count": 56,
   "id": "0624ee74",
   "metadata": {},
   "outputs": [
    {
     "data": {
      "text/html": [
       "<div>\n",
       "<style scoped>\n",
       "    .dataframe tbody tr th:only-of-type {\n",
       "        vertical-align: middle;\n",
       "    }\n",
       "\n",
       "    .dataframe tbody tr th {\n",
       "        vertical-align: top;\n",
       "    }\n",
       "\n",
       "    .dataframe thead th {\n",
       "        text-align: right;\n",
       "    }\n",
       "</style>\n",
       "<table border=\"1\" class=\"dataframe\">\n",
       "  <thead>\n",
       "    <tr style=\"text-align: right;\">\n",
       "      <th></th>\n",
       "      <th>time</th>\n",
       "      <th>close</th>\n",
       "      <th>volume</th>\n",
       "      <th>S</th>\n",
       "      <th>L</th>\n",
       "      <th>C</th>\n",
       "    </tr>\n",
       "  </thead>\n",
       "  <tbody>\n",
       "    <tr>\n",
       "      <th>0</th>\n",
       "      <td>2009-01-02 00:10:00</td>\n",
       "      <td>1.38730</td>\n",
       "      <td>215.0</td>\n",
       "      <td>0</td>\n",
       "      <td>0</td>\n",
       "      <td>1</td>\n",
       "    </tr>\n",
       "    <tr>\n",
       "      <th>1</th>\n",
       "      <td>2009-01-02 00:20:00</td>\n",
       "      <td>1.38790</td>\n",
       "      <td>228.0</td>\n",
       "      <td>0</td>\n",
       "      <td>0</td>\n",
       "      <td>1</td>\n",
       "    </tr>\n",
       "    <tr>\n",
       "      <th>2</th>\n",
       "      <td>2009-01-02 00:30:00</td>\n",
       "      <td>1.38590</td>\n",
       "      <td>483.0</td>\n",
       "      <td>0</td>\n",
       "      <td>0</td>\n",
       "      <td>1</td>\n",
       "    </tr>\n",
       "    <tr>\n",
       "      <th>3</th>\n",
       "      <td>2009-01-02 00:40:00</td>\n",
       "      <td>1.38510</td>\n",
       "      <td>592.0</td>\n",
       "      <td>0</td>\n",
       "      <td>0</td>\n",
       "      <td>1</td>\n",
       "    </tr>\n",
       "    <tr>\n",
       "      <th>4</th>\n",
       "      <td>2009-01-02 00:50:00</td>\n",
       "      <td>1.38470</td>\n",
       "      <td>883.0</td>\n",
       "      <td>0</td>\n",
       "      <td>0</td>\n",
       "      <td>1</td>\n",
       "    </tr>\n",
       "    <tr>\n",
       "      <th>...</th>\n",
       "      <td>...</td>\n",
       "      <td>...</td>\n",
       "      <td>...</td>\n",
       "      <td>...</td>\n",
       "      <td>...</td>\n",
       "      <td>...</td>\n",
       "    </tr>\n",
       "    <tr>\n",
       "      <th>661057</th>\n",
       "      <td>2021-07-28 16:20:00</td>\n",
       "      <td>1.18485</td>\n",
       "      <td>607.0</td>\n",
       "      <td>0</td>\n",
       "      <td>0</td>\n",
       "      <td>1</td>\n",
       "    </tr>\n",
       "    <tr>\n",
       "      <th>661058</th>\n",
       "      <td>2021-07-28 16:30:00</td>\n",
       "      <td>1.18481</td>\n",
       "      <td>441.0</td>\n",
       "      <td>0</td>\n",
       "      <td>0</td>\n",
       "      <td>1</td>\n",
       "    </tr>\n",
       "    <tr>\n",
       "      <th>661059</th>\n",
       "      <td>2021-07-28 16:40:00</td>\n",
       "      <td>1.18467</td>\n",
       "      <td>377.0</td>\n",
       "      <td>0</td>\n",
       "      <td>0</td>\n",
       "      <td>1</td>\n",
       "    </tr>\n",
       "    <tr>\n",
       "      <th>661060</th>\n",
       "      <td>2021-07-28 16:50:00</td>\n",
       "      <td>1.18430</td>\n",
       "      <td>482.0</td>\n",
       "      <td>0</td>\n",
       "      <td>0</td>\n",
       "      <td>1</td>\n",
       "    </tr>\n",
       "    <tr>\n",
       "      <th>661061</th>\n",
       "      <td>2021-07-28 17:00:00</td>\n",
       "      <td>1.18427</td>\n",
       "      <td>617.0</td>\n",
       "      <td>0</td>\n",
       "      <td>0</td>\n",
       "      <td>1</td>\n",
       "    </tr>\n",
       "  </tbody>\n",
       "</table>\n",
       "<p>661062 rows × 6 columns</p>\n",
       "</div>"
      ],
      "text/plain": [
       "                      time    close  volume  S  L  C\n",
       "0      2009-01-02 00:10:00  1.38730   215.0  0  0  1\n",
       "1      2009-01-02 00:20:00  1.38790   228.0  0  0  1\n",
       "2      2009-01-02 00:30:00  1.38590   483.0  0  0  1\n",
       "3      2009-01-02 00:40:00  1.38510   592.0  0  0  1\n",
       "4      2009-01-02 00:50:00  1.38470   883.0  0  0  1\n",
       "...                    ...      ...     ... .. .. ..\n",
       "661057 2021-07-28 16:20:00  1.18485   607.0  0  0  1\n",
       "661058 2021-07-28 16:30:00  1.18481   441.0  0  0  1\n",
       "661059 2021-07-28 16:40:00  1.18467   377.0  0  0  1\n",
       "661060 2021-07-28 16:50:00  1.18430   482.0  0  0  1\n",
       "661061 2021-07-28 17:00:00  1.18427   617.0  0  0  1\n",
       "\n",
       "[661062 rows x 6 columns]"
      ]
     },
     "execution_count": 56,
     "metadata": {},
     "output_type": "execute_result"
    }
   ],
   "source": [
    "importlib.reload(back_test)\n",
    "trades_in"
   ]
  },
  {
   "cell_type": "code",
   "execution_count": 57,
   "id": "1cf19c2a",
   "metadata": {},
   "outputs": [
    {
     "data": {
      "text/plain": [
       "{10: {'annual return': 2.27,\n",
       "  'sharpe': 24.37,\n",
       "  'sortino': 43.56,\n",
       "  'std_deviation': 0.093,\n",
       "  'total_return': 40.0689,\n",
       "  'trade_count_long': 11897,\n",
       "  'trade_count_short': 17440,\n",
       "  'trade_count_total': 29337,\n",
       "  'average_return_long': 4.865,\n",
       "  'average_return_short': 2.4251,\n",
       "  'accuracy_long': 0.988,\n",
       "  'accuracy_short': 1.0,\n",
       "  'accuracy_total': 0.995,\n",
       "  'max_drawdown': -0.3038000000000398,\n",
       "  'max_drawdown_days': 331},\n",
       " 20: {'annual return': 2.049,\n",
       "  'sharpe': 22.14,\n",
       "  'sortino': 39.26,\n",
       "  'std_deviation': 0.093,\n",
       "  'total_return': 36.1705,\n",
       "  'trade_count_long': 9250,\n",
       "  'trade_count_short': 17293,\n",
       "  'trade_count_total': 26543,\n",
       "  'average_return_long': 5.2464,\n",
       "  'average_return_short': 2.4228,\n",
       "  'accuracy_long': 0.952,\n",
       "  'accuracy_short': 1.0,\n",
       "  'accuracy_total': 0.983,\n",
       "  'max_drawdown': -0.3038000000000398,\n",
       "  'max_drawdown_days': 331}}"
      ]
     },
     "execution_count": 57,
     "metadata": {},
     "output_type": "execute_result"
    }
   ],
   "source": [
    "stats # TODO: fix the overlap between longs and shorts -> fix the max drawdown, something with list.index()"
   ]
  },
  {
   "cell_type": "code",
   "execution_count": 61,
   "id": "2755f8a1",
   "metadata": {},
   "outputs": [
    {
     "data": {
      "text/plain": [
       "<AxesSubplot:xlabel='dd_bps', ylabel='annual return'>"
      ]
     },
     "execution_count": 61,
     "metadata": {},
     "output_type": "execute_result"
    },
    {
     "data": {
      "image/png": "[encoded data removed]",
      "text/plain": [
       "<Figure size 432x288 with 1 Axes>"
      ]
     },
     "metadata": {
      "needs_background": "light"
     },
     "output_type": "display_data"
    }
   ],
   "source": [
    "df_stats = pd.DataFrame.from_dict(stats, orient = 'index')\n",
    "df_stats['dd_bps'] = df_stats.index\n",
    "sb.scatterplot(data = df_stats,\n",
    "               x = 'dd_bps',\n",
    "               y = 'annual_return')"
   ]
  },
  {
   "cell_type": "code",
   "execution_count": 62,
   "id": "06d3f80b",
   "metadata": {},
   "outputs": [
    {
     "data": {
      "image/png": "[encoded data removed]",
      "text/plain": [
       "<Figure size 432x288 with 1 Axes>"
      ]
     },
     "metadata": {
      "needs_background": "light"
     },
     "output_type": "display_data"
    }
   ],
   "source": [
    "p = sb.scatterplot(data = df_stats,\n",
    "                   x = 'dd_bps',\n",
    "                   y = 'sortino')"
   ]
  },
  {
   "cell_type": "code",
   "execution_count": 65,
   "id": "7d2cf112",
   "metadata": {},
   "outputs": [
    {
     "data": {
      "image/png": "[encoded data removed]",
      "text/plain": [
       "<Figure size 432x288 with 1 Axes>"
      ]
     },
     "metadata": {
      "needs_background": "light"
     },
     "output_type": "display_data"
    }
   ],
   "source": [
    "p = sb.scatterplot(data = df_stats,\n",
    "                   x = 'dd_bps',\n",
    "                   y = 'trade_count_total')"
   ]
  },
  {
   "cell_type": "markdown",
   "id": "834f419f",
   "metadata": {},
   "source": [
    "Separate code for model development and optimization."
   ]
  }
 ],
 "metadata": {
  "kernelspec": {
   "display_name": "Python 3 (ipykernel)",
   "language": "python",
   "name": "python3"
  },
  "language_info": {
   "codemirror_mode": {
    "name": "ipython",
    "version": 3
   },
   "file_extension": ".py",
   "mimetype": "text/x-python",
   "name": "python",
   "nbconvert_exporter": "python",
   "pygments_lexer": "ipython3",
   "version": "3.9.13"
  }
 },
 "nbformat": 4,
 "nbformat_minor": 5
}
